{
  "nbformat": 4,
  "nbformat_minor": 0,
  "metadata": {
    "colab": {
      "provenance": [],
      "name": "Maigret - Username Search",
      "toc_visible": true
    },
    "kernelspec": {
      "name": "python3",
      "display_name": "Python 3"
    },
    "language_info": {
      "name": "python"
    }
  },
  "cells": [
    {
      "cell_type": "markdown",
      "metadata": {
        "id": "maigret-title"
      },
      "source": [
        "# Maigret - Collect a dossier on a person by username\n",
        "\n",
        "This notebook allows you to use Maigret in Google Colab to search for usernames across thousands of sites.\n",
        "\n",
        "## What is Maigret?\n",
        "\n",
        "Maigret is an OSINT tool that collects information about a person by their username from thousands of social networks and websites.\n",
        "\n",
        "**Repository**: https://github.com/soxoj/maigret\n",
        "\n",
        "## Installation\n",
        "\n",
        "Run the cell below to install Maigret. This notebook uses Poetry-based installation which automatically handles all dependencies."
      ]
    },
    {
      "cell_type": "code",
      "execution_count": null,
      "metadata": {
        "id": "maigret-install"
      },
      "outputs": [],
      "source": [
        "# Clone the Maigret repository from GitHub\n",
        "!git clone https://github.com/soxoj/maigret\n",
        "\n",
        "# Install Maigret using pip (Poetry-based installation)\n",
        "# This automatically installs all dependencies from pyproject.toml\n",
        "!pip3 install ./maigret/\n",
        "\n",
        "# Clear installation output for cleaner display\n",
        "from IPython.display import clear_output\n",
        "clear_output()\n",
        "\n",
        "print(\"✓ Maigret installed successfully!\")\n",
        "print(\"Ready to search for usernames.\")"
      ]
    },
    {
      "cell_type": "markdown",
      "metadata": {
        "id": "maigret-usage-title"
      },
      "source": [
        "## Usage\n",
        "\n",
        "Run the cell below to search for a username. You will be prompted to enter the username you want to search for.\n",
        "\n",
        "**Command options used**:\n",
        "- `-a` or `--all-sites`: Search across all available sites\n",
        "- `-n 10`: Show top 10 results first (to see results faster)\n",
        "\n",
        "**Additional options** (you can modify the command):\n",
        "- `--html`: Generate an HTML report\n",
        "- `--pdf`: Generate a PDF report\n",
        "- `--json`: Generate a JSON report\n",
        "- `--csv`: Generate a CSV report\n",
        "- `--tags`: Filter sites by tags (e.g., `--tags social,professional`)\n",
        "\n",
        "For more options, see the [documentation](https://maigret.readthedocs.io)."
      ]
    },
    {
      "cell_type": "code",
      "execution_count": null,
      "metadata": {
        "id": "maigret-search"
      },
      "outputs": [],
      "source": [
        "# Get username from user input\n",
        "username = str(input(\"Username >> \"))\n",
        "\n",
        "# Run Maigret search\n",
        "# -a: search all sites\n",
        "# -n 10: show top 10 results first\n",
        "!maigret {username} -a -n 10"
      ]
    },
    {
      "cell_type": "markdown",
      "metadata": {
        "id": "maigret-advanced-title"
      },
      "source": [
        "## Advanced Usage\n",
        "\n",
        "You can run custom Maigret commands in the cell below. For example:\n",
        "\n",
        "```bash\n",
        "# Generate HTML report\n",
        "!maigret username --html\n",
        "\n",
        "# Search specific tags only\n",
        "!maigret username --tags social,dating\n",
        "\n",
        "# Use custom site list\n",
        "!maigret username --site-list custom_sites.json\n",
        "```"
      ]
    },
    {
      "cell_type": "code",
      "source": [
        "# Add your custom Maigret commands here\n"
      ],
      "metadata": {
        "id": "maigret-advanced-cell"
      },
      "execution_count": null,
      "outputs": []
    }
  ]
}
